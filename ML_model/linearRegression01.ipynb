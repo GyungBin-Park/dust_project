{
 "cells": [
  {
   "cell_type": "markdown",
   "id": "9daea261-1c2a-47f5-90d8-fea4dd653667",
   "metadata": {},
   "source": [
    "## * 참고 사이트\n",
    "#### http://hleecaster.com/ml-multiple-linear-regression-example/"
   ]
  },
  {
   "cell_type": "code",
   "execution_count": 1,
   "id": "f62c7437-1e3c-4332-955b-bf87838c34fa",
   "metadata": {},
   "outputs": [],
   "source": [
    "import pandas as pd\n",
    "import pandas_profiling\n",
    "from sklearn.preprocessing import MinMaxScaler\n",
    "from sklearn.linear_model import LinearRegression"
   ]
  },
  {
   "cell_type": "code",
   "execution_count": 2,
   "id": "a3b8e7aa-6728-4108-9a40-9c34fa27fd0e",
   "metadata": {},
   "outputs": [],
   "source": [
    "# DataSet.csv : 비어있는 값들을 그 열의 중앙값으로 채움으로써 결측치 처리\n",
    "df_dust = pd.read_csv('DataSet.csv')"
   ]
  },
  {
   "cell_type": "code",
   "execution_count": 3,
   "id": "3f7c94af-b563-4ec7-9b71-6a43883e3ce4",
   "metadata": {},
   "outputs": [
    {
     "data": {
      "text/html": [
       "<div>\n",
       "<style scoped>\n",
       "    .dataframe tbody tr th:only-of-type {\n",
       "        vertical-align: middle;\n",
       "    }\n",
       "\n",
       "    .dataframe tbody tr th {\n",
       "        vertical-align: top;\n",
       "    }\n",
       "\n",
       "    .dataframe thead th {\n",
       "        text-align: right;\n",
       "    }\n",
       "</style>\n",
       "<table border=\"1\" class=\"dataframe\">\n",
       "  <thead>\n",
       "    <tr style=\"text-align: right;\">\n",
       "      <th></th>\n",
       "      <th>Station code</th>\n",
       "      <th>Date</th>\n",
       "      <th>SO2</th>\n",
       "      <th>CO</th>\n",
       "      <th>O3</th>\n",
       "      <th>NO2</th>\n",
       "      <th>PM10</th>\n",
       "      <th>PM25</th>\n",
       "      <th>Temp</th>\n",
       "      <th>Prec</th>\n",
       "      <th>WS</th>\n",
       "      <th>Humi</th>\n",
       "      <th>Pres</th>\n",
       "      <th>cbwd</th>\n",
       "    </tr>\n",
       "  </thead>\n",
       "  <tbody>\n",
       "    <tr>\n",
       "      <th>0</th>\n",
       "      <td>111121</td>\n",
       "      <td>2018-01-01</td>\n",
       "      <td>0.004833</td>\n",
       "      <td>0.554167</td>\n",
       "      <td>0.014583</td>\n",
       "      <td>0.029292</td>\n",
       "      <td>32.666667</td>\n",
       "      <td>17.791667</td>\n",
       "      <td>-1.3</td>\n",
       "      <td>0.0</td>\n",
       "      <td>1.4</td>\n",
       "      <td>39.1</td>\n",
       "      <td>1016.8</td>\n",
       "      <td>290</td>\n",
       "    </tr>\n",
       "    <tr>\n",
       "      <th>1</th>\n",
       "      <td>111122</td>\n",
       "      <td>2018-01-01</td>\n",
       "      <td>0.005417</td>\n",
       "      <td>0.541667</td>\n",
       "      <td>0.011375</td>\n",
       "      <td>0.039750</td>\n",
       "      <td>49.541667</td>\n",
       "      <td>19.899749</td>\n",
       "      <td>-1.3</td>\n",
       "      <td>0.0</td>\n",
       "      <td>1.4</td>\n",
       "      <td>39.1</td>\n",
       "      <td>1016.8</td>\n",
       "      <td>290</td>\n",
       "    </tr>\n",
       "    <tr>\n",
       "      <th>2</th>\n",
       "      <td>111123</td>\n",
       "      <td>2018-01-01</td>\n",
       "      <td>0.007208</td>\n",
       "      <td>0.604167</td>\n",
       "      <td>0.015292</td>\n",
       "      <td>0.030250</td>\n",
       "      <td>34.375000</td>\n",
       "      <td>17.333333</td>\n",
       "      <td>-1.3</td>\n",
       "      <td>0.0</td>\n",
       "      <td>1.4</td>\n",
       "      <td>39.1</td>\n",
       "      <td>1016.8</td>\n",
       "      <td>290</td>\n",
       "    </tr>\n",
       "    <tr>\n",
       "      <th>3</th>\n",
       "      <td>111124</td>\n",
       "      <td>2018-01-01</td>\n",
       "      <td>0.006333</td>\n",
       "      <td>0.433333</td>\n",
       "      <td>0.011542</td>\n",
       "      <td>0.034167</td>\n",
       "      <td>37.125000</td>\n",
       "      <td>19.899749</td>\n",
       "      <td>-1.3</td>\n",
       "      <td>0.0</td>\n",
       "      <td>1.4</td>\n",
       "      <td>39.1</td>\n",
       "      <td>1016.8</td>\n",
       "      <td>290</td>\n",
       "    </tr>\n",
       "    <tr>\n",
       "      <th>4</th>\n",
       "      <td>111125</td>\n",
       "      <td>2018-01-01</td>\n",
       "      <td>0.003667</td>\n",
       "      <td>0.495833</td>\n",
       "      <td>0.020833</td>\n",
       "      <td>0.028708</td>\n",
       "      <td>36.208333</td>\n",
       "      <td>19.899749</td>\n",
       "      <td>-1.3</td>\n",
       "      <td>0.0</td>\n",
       "      <td>1.4</td>\n",
       "      <td>39.1</td>\n",
       "      <td>1016.8</td>\n",
       "      <td>290</td>\n",
       "    </tr>\n",
       "    <tr>\n",
       "      <th>5</th>\n",
       "      <td>111131</td>\n",
       "      <td>2018-01-01</td>\n",
       "      <td>0.004792</td>\n",
       "      <td>0.341667</td>\n",
       "      <td>0.011167</td>\n",
       "      <td>0.029333</td>\n",
       "      <td>39.083333</td>\n",
       "      <td>18.333333</td>\n",
       "      <td>-1.3</td>\n",
       "      <td>0.0</td>\n",
       "      <td>1.4</td>\n",
       "      <td>39.1</td>\n",
       "      <td>1016.8</td>\n",
       "      <td>290</td>\n",
       "    </tr>\n",
       "    <tr>\n",
       "      <th>6</th>\n",
       "      <td>111141</td>\n",
       "      <td>2018-01-01</td>\n",
       "      <td>0.005417</td>\n",
       "      <td>0.670833</td>\n",
       "      <td>0.012000</td>\n",
       "      <td>0.037500</td>\n",
       "      <td>41.583333</td>\n",
       "      <td>21.708333</td>\n",
       "      <td>-1.3</td>\n",
       "      <td>0.0</td>\n",
       "      <td>1.4</td>\n",
       "      <td>39.1</td>\n",
       "      <td>1016.8</td>\n",
       "      <td>290</td>\n",
       "    </tr>\n",
       "    <tr>\n",
       "      <th>7</th>\n",
       "      <td>111142</td>\n",
       "      <td>2018-01-01</td>\n",
       "      <td>0.005500</td>\n",
       "      <td>0.495833</td>\n",
       "      <td>0.009292</td>\n",
       "      <td>0.032917</td>\n",
       "      <td>48.000000</td>\n",
       "      <td>22.875000</td>\n",
       "      <td>-1.3</td>\n",
       "      <td>0.0</td>\n",
       "      <td>1.4</td>\n",
       "      <td>39.1</td>\n",
       "      <td>1016.8</td>\n",
       "      <td>290</td>\n",
       "    </tr>\n",
       "    <tr>\n",
       "      <th>8</th>\n",
       "      <td>111143</td>\n",
       "      <td>2018-01-01</td>\n",
       "      <td>0.005000</td>\n",
       "      <td>0.650000</td>\n",
       "      <td>0.007833</td>\n",
       "      <td>0.034083</td>\n",
       "      <td>48.291667</td>\n",
       "      <td>19.899749</td>\n",
       "      <td>-1.3</td>\n",
       "      <td>0.0</td>\n",
       "      <td>1.4</td>\n",
       "      <td>39.1</td>\n",
       "      <td>1016.8</td>\n",
       "      <td>290</td>\n",
       "    </tr>\n",
       "    <tr>\n",
       "      <th>9</th>\n",
       "      <td>111151</td>\n",
       "      <td>2018-01-01</td>\n",
       "      <td>0.006625</td>\n",
       "      <td>0.720833</td>\n",
       "      <td>0.009833</td>\n",
       "      <td>0.037250</td>\n",
       "      <td>48.250000</td>\n",
       "      <td>22.666667</td>\n",
       "      <td>-1.3</td>\n",
       "      <td>0.0</td>\n",
       "      <td>1.4</td>\n",
       "      <td>39.1</td>\n",
       "      <td>1016.8</td>\n",
       "      <td>290</td>\n",
       "    </tr>\n",
       "  </tbody>\n",
       "</table>\n",
       "</div>"
      ],
      "text/plain": [
       "   Station code        Date       SO2        CO        O3       NO2  \\\n",
       "0        111121  2018-01-01  0.004833  0.554167  0.014583  0.029292   \n",
       "1        111122  2018-01-01  0.005417  0.541667  0.011375  0.039750   \n",
       "2        111123  2018-01-01  0.007208  0.604167  0.015292  0.030250   \n",
       "3        111124  2018-01-01  0.006333  0.433333  0.011542  0.034167   \n",
       "4        111125  2018-01-01  0.003667  0.495833  0.020833  0.028708   \n",
       "5        111131  2018-01-01  0.004792  0.341667  0.011167  0.029333   \n",
       "6        111141  2018-01-01  0.005417  0.670833  0.012000  0.037500   \n",
       "7        111142  2018-01-01  0.005500  0.495833  0.009292  0.032917   \n",
       "8        111143  2018-01-01  0.005000  0.650000  0.007833  0.034083   \n",
       "9        111151  2018-01-01  0.006625  0.720833  0.009833  0.037250   \n",
       "\n",
       "        PM10       PM25  Temp  Prec   WS  Humi    Pres  cbwd  \n",
       "0  32.666667  17.791667  -1.3   0.0  1.4  39.1  1016.8   290  \n",
       "1  49.541667  19.899749  -1.3   0.0  1.4  39.1  1016.8   290  \n",
       "2  34.375000  17.333333  -1.3   0.0  1.4  39.1  1016.8   290  \n",
       "3  37.125000  19.899749  -1.3   0.0  1.4  39.1  1016.8   290  \n",
       "4  36.208333  19.899749  -1.3   0.0  1.4  39.1  1016.8   290  \n",
       "5  39.083333  18.333333  -1.3   0.0  1.4  39.1  1016.8   290  \n",
       "6  41.583333  21.708333  -1.3   0.0  1.4  39.1  1016.8   290  \n",
       "7  48.000000  22.875000  -1.3   0.0  1.4  39.1  1016.8   290  \n",
       "8  48.291667  19.899749  -1.3   0.0  1.4  39.1  1016.8   290  \n",
       "9  48.250000  22.666667  -1.3   0.0  1.4  39.1  1016.8   290  "
      ]
     },
     "execution_count": 3,
     "metadata": {},
     "output_type": "execute_result"
    }
   ],
   "source": [
    "# Prec : 강수량, WS : 풍속, Humi : 습도, Pres : 대기압, cbwd : 풍향\n",
    "df_dust.head(10)"
   ]
  },
  {
   "cell_type": "code",
   "execution_count": 4,
   "id": "3b914137-ed18-46ab-9abc-c6d64028103f",
   "metadata": {},
   "outputs": [],
   "source": [
    "# pip list"
   ]
  },
  {
   "cell_type": "code",
   "execution_count": 5,
   "id": "4c7a0a26-4e8b-4c68-b178-bc6c59a36118",
   "metadata": {
    "tags": []
   },
   "outputs": [
    {
     "name": "stdout",
     "output_type": "stream",
     "text": [
      "<class 'pandas.core.frame.DataFrame'>\n",
      "RangeIndex: 43536 entries, 0 to 43535\n",
      "Data columns (total 14 columns):\n",
      " #   Column        Non-Null Count  Dtype  \n",
      "---  ------        --------------  -----  \n",
      " 0   Station code  43536 non-null  int64  \n",
      " 1   Date          43536 non-null  object \n",
      " 2   SO2           43536 non-null  float64\n",
      " 3   CO            43536 non-null  float64\n",
      " 4   O3            43536 non-null  float64\n",
      " 5   NO2           43536 non-null  float64\n",
      " 6   PM10          43536 non-null  float64\n",
      " 7   PM25          43536 non-null  float64\n",
      " 8   Temp          43536 non-null  float64\n",
      " 9   Prec          43536 non-null  float64\n",
      " 10  WS            43536 non-null  float64\n",
      " 11  Humi          43536 non-null  float64\n",
      " 12  Pres          43536 non-null  float64\n",
      " 13  cbwd          43536 non-null  int64  \n",
      "dtypes: float64(11), int64(2), object(1)\n",
      "memory usage: 4.7+ MB\n"
     ]
    }
   ],
   "source": [
    "df_dust.info()"
   ]
  },
  {
   "cell_type": "code",
   "execution_count": 6,
   "id": "2af6377d-063f-409f-b170-1d7a14be88a2",
   "metadata": {},
   "outputs": [],
   "source": [
    "# df_dust.profile_report()"
   ]
  },
  {
   "cell_type": "markdown",
   "id": "22e87c8b-66a4-4780-b35b-6f110d6bdb33",
   "metadata": {},
   "source": [
    "## MinMaxScaler"
   ]
  },
  {
   "cell_type": "code",
   "execution_count": 7,
   "id": "68fe447a-5f53-4bc8-892f-b2b48c408385",
   "metadata": {},
   "outputs": [],
   "source": [
    "data = df_dust.drop(columns = ['Station code', 'Date'])"
   ]
  },
  {
   "cell_type": "code",
   "execution_count": 8,
   "id": "2366df04-1017-46ca-9cd2-d2cf033f036e",
   "metadata": {},
   "outputs": [
    {
     "data": {
      "text/html": [
       "<div>\n",
       "<style scoped>\n",
       "    .dataframe tbody tr th:only-of-type {\n",
       "        vertical-align: middle;\n",
       "    }\n",
       "\n",
       "    .dataframe tbody tr th {\n",
       "        vertical-align: top;\n",
       "    }\n",
       "\n",
       "    .dataframe thead th {\n",
       "        text-align: right;\n",
       "    }\n",
       "</style>\n",
       "<table border=\"1\" class=\"dataframe\">\n",
       "  <thead>\n",
       "    <tr style=\"text-align: right;\">\n",
       "      <th></th>\n",
       "      <th>SO2</th>\n",
       "      <th>CO</th>\n",
       "      <th>O3</th>\n",
       "      <th>NO2</th>\n",
       "      <th>PM10</th>\n",
       "      <th>PM25</th>\n",
       "      <th>Temp</th>\n",
       "      <th>Prec</th>\n",
       "      <th>WS</th>\n",
       "      <th>Humi</th>\n",
       "      <th>Pres</th>\n",
       "      <th>cbwd</th>\n",
       "    </tr>\n",
       "  </thead>\n",
       "  <tbody>\n",
       "    <tr>\n",
       "      <th>0</th>\n",
       "      <td>0.352490</td>\n",
       "      <td>0.249428</td>\n",
       "      <td>0.137538</td>\n",
       "      <td>0.215782</td>\n",
       "      <td>0.131999</td>\n",
       "      <td>0.110623</td>\n",
       "      <td>0.278351</td>\n",
       "      <td>0.0</td>\n",
       "      <td>0.148148</td>\n",
       "      <td>0.268015</td>\n",
       "      <td>0.771167</td>\n",
       "      <td>0.794118</td>\n",
       "    </tr>\n",
       "    <tr>\n",
       "      <th>1</th>\n",
       "      <td>0.406130</td>\n",
       "      <td>0.242563</td>\n",
       "      <td>0.103811</td>\n",
       "      <td>0.297764</td>\n",
       "      <td>0.207082</td>\n",
       "      <td>0.124511</td>\n",
       "      <td>0.278351</td>\n",
       "      <td>0.0</td>\n",
       "      <td>0.148148</td>\n",
       "      <td>0.268015</td>\n",
       "      <td>0.771167</td>\n",
       "      <td>0.794118</td>\n",
       "    </tr>\n",
       "    <tr>\n",
       "      <th>2</th>\n",
       "      <td>0.570881</td>\n",
       "      <td>0.276888</td>\n",
       "      <td>0.144985</td>\n",
       "      <td>0.223294</td>\n",
       "      <td>0.139600</td>\n",
       "      <td>0.107604</td>\n",
       "      <td>0.278351</td>\n",
       "      <td>0.0</td>\n",
       "      <td>0.148148</td>\n",
       "      <td>0.268015</td>\n",
       "      <td>0.771167</td>\n",
       "      <td>0.794118</td>\n",
       "    </tr>\n",
       "    <tr>\n",
       "      <th>3</th>\n",
       "      <td>0.490421</td>\n",
       "      <td>0.183066</td>\n",
       "      <td>0.105563</td>\n",
       "      <td>0.253996</td>\n",
       "      <td>0.151835</td>\n",
       "      <td>0.124511</td>\n",
       "      <td>0.278351</td>\n",
       "      <td>0.0</td>\n",
       "      <td>0.148148</td>\n",
       "      <td>0.268015</td>\n",
       "      <td>0.771167</td>\n",
       "      <td>0.794118</td>\n",
       "    </tr>\n",
       "    <tr>\n",
       "      <th>4</th>\n",
       "      <td>0.245211</td>\n",
       "      <td>0.217391</td>\n",
       "      <td>0.203241</td>\n",
       "      <td>0.211209</td>\n",
       "      <td>0.147757</td>\n",
       "      <td>0.124511</td>\n",
       "      <td>0.278351</td>\n",
       "      <td>0.0</td>\n",
       "      <td>0.148148</td>\n",
       "      <td>0.268015</td>\n",
       "      <td>0.771167</td>\n",
       "      <td>0.794118</td>\n",
       "    </tr>\n",
       "  </tbody>\n",
       "</table>\n",
       "</div>"
      ],
      "text/plain": [
       "        SO2        CO        O3       NO2      PM10      PM25      Temp  Prec  \\\n",
       "0  0.352490  0.249428  0.137538  0.215782  0.131999  0.110623  0.278351   0.0   \n",
       "1  0.406130  0.242563  0.103811  0.297764  0.207082  0.124511  0.278351   0.0   \n",
       "2  0.570881  0.276888  0.144985  0.223294  0.139600  0.107604  0.278351   0.0   \n",
       "3  0.490421  0.183066  0.105563  0.253996  0.151835  0.124511  0.278351   0.0   \n",
       "4  0.245211  0.217391  0.203241  0.211209  0.147757  0.124511  0.278351   0.0   \n",
       "\n",
       "         WS      Humi      Pres      cbwd  \n",
       "0  0.148148  0.268015  0.771167  0.794118  \n",
       "1  0.148148  0.268015  0.771167  0.794118  \n",
       "2  0.148148  0.268015  0.771167  0.794118  \n",
       "3  0.148148  0.268015  0.771167  0.794118  \n",
       "4  0.148148  0.268015  0.771167  0.794118  "
      ]
     },
     "execution_count": 8,
     "metadata": {},
     "output_type": "execute_result"
    }
   ],
   "source": [
    "# minmaxscaler\n",
    "scaler = MinMaxScaler()\n",
    "\n",
    "scaler_columns = ['SO2', 'CO', 'O3', 'NO2', 'PM10', 'PM25', 'Temp', 'Prec', 'WS', 'Humi', 'Pres', 'cbwd']\n",
    "df_scaled = scaler.fit_transform(data)\n",
    "df_scaled = pd.DataFrame(df_scaled)\n",
    "df_scaled.columns = scaler_columns\n",
    "df_scaled.head()"
   ]
  },
  {
   "cell_type": "markdown",
   "id": "07c0adfc-22cf-4a20-85fa-acfc875783ce",
   "metadata": {},
   "source": [
    "## PM10 : 정확도 = 0.168 → 매우 떨어짐"
   ]
  },
  {
   "cell_type": "code",
   "execution_count": 9,
   "id": "9b717431-67f6-4df0-bc9d-ee3d0e1c2e63",
   "metadata": {},
   "outputs": [],
   "source": [
    "from sklearn.model_selection import train_test_split\n",
    "# 목표 변수 : 'SO2', 'CO', 'O3', 'NO2', 'PM10', 'PM25'\n",
    "x = df_dust[['Temp', 'Prec', 'WS', 'Humi', 'Pres', 'cbwd']]\n",
    "y = df_dust[['PM10']]\n",
    "\n",
    "x_train, x_test, y_train, y_test = train_test_split(x, y, train_size=0.8, test_size=0.2)"
   ]
  },
  {
   "cell_type": "code",
   "execution_count": 10,
   "id": "7edf302b-54de-4633-82eb-e6985d729f28",
   "metadata": {},
   "outputs": [
    {
     "data": {
      "text/plain": [
       "LinearRegression()"
      ]
     },
     "execution_count": 10,
     "metadata": {},
     "output_type": "execute_result"
    }
   ],
   "source": [
    "# 모델 생성\n",
    "# from sklearn.linear_model import LinearRegression\n",
    "mlr1 = LinearRegression()\n",
    "mlr1.fit(x_train, y_train)"
   ]
  },
  {
   "cell_type": "code",
   "execution_count": 11,
   "id": "7ceabaca-2262-4186-b4f5-d5c08aeb3fda",
   "metadata": {},
   "outputs": [
    {
     "name": "stdout",
     "output_type": "stream",
     "text": [
      "[[-0.84613934 -0.28312106 -7.40652653 -0.05767897 -0.42317546  0.0307716 ]]\n"
     ]
    }
   ],
   "source": [
    "# 회귀계수 확인\n",
    "print(mlr1.coef_)"
   ]
  },
  {
   "cell_type": "code",
   "execution_count": 12,
   "id": "4e84a3cd-6133-491f-8897-46051aaf0571",
   "metadata": {
    "tags": []
   },
   "outputs": [
    {
     "name": "stdout",
     "output_type": "stream",
     "text": [
      "[490.52073397]\n"
     ]
    }
   ],
   "source": [
    "# 상수 확인\n",
    "print(mlr1.intercept_)"
   ]
  },
  {
   "cell_type": "code",
   "execution_count": 13,
   "id": "088c2c7f-9dc2-47c5-b8ae-2cd66ccb45cb",
   "metadata": {},
   "outputs": [
    {
     "data": {
      "text/plain": [
       "0.168"
      ]
     },
     "execution_count": 13,
     "metadata": {},
     "output_type": "execute_result"
    }
   ],
   "source": [
    "round(mlr1.score(x_train, y_train), 3)"
   ]
  },
  {
   "cell_type": "markdown",
   "id": "c54c42f5-1878-462f-b2d0-9592f174d300",
   "metadata": {},
   "source": [
    "## PM25 : 정확도 = 0.153 → 매우 떨어짐"
   ]
  },
  {
   "cell_type": "code",
   "execution_count": 14,
   "id": "d732284b-f294-428f-919b-dee8041e355a",
   "metadata": {},
   "outputs": [],
   "source": [
    "z = df_dust[['PM25']]\n",
    "\n",
    "x_train, x_test, z_train, z_test = train_test_split(x, z, train_size=0.8, test_size=0.2)"
   ]
  },
  {
   "cell_type": "code",
   "execution_count": 15,
   "id": "8a3a0a4f-c293-4863-ad03-91f54ab0c543",
   "metadata": {},
   "outputs": [
    {
     "data": {
      "text/plain": [
       "LinearRegression()"
      ]
     },
     "execution_count": 15,
     "metadata": {},
     "output_type": "execute_result"
    }
   ],
   "source": [
    "# 모델 생성\n",
    "mlr2 = LinearRegression()\n",
    "mlr2.fit(x_train, z_train)"
   ]
  },
  {
   "cell_type": "code",
   "execution_count": 16,
   "id": "c30ba354-2fbb-4b58-947d-af874320b18c",
   "metadata": {},
   "outputs": [
    {
     "name": "stdout",
     "output_type": "stream",
     "text": [
      "[[-0.50676889 -0.2239161  -6.40522696  0.13947856 -0.1758375   0.01852609]]\n"
     ]
    }
   ],
   "source": [
    "# 회귀계수 확인\n",
    "print(mlr2.coef_)"
   ]
  },
  {
   "cell_type": "code",
   "execution_count": 17,
   "id": "a08f0130-cbf5-44e1-8179-227b493eb1f2",
   "metadata": {},
   "outputs": [
    {
     "name": "stdout",
     "output_type": "stream",
     "text": [
      "[208.19247258]\n"
     ]
    }
   ],
   "source": [
    "# 상수 확인\n",
    "print(mlr2.intercept_)"
   ]
  },
  {
   "cell_type": "code",
   "execution_count": 18,
   "id": "b990ec88-82a9-43d7-93f2-a3aee56dd514",
   "metadata": {},
   "outputs": [
    {
     "data": {
      "text/plain": [
       "0.153"
      ]
     },
     "execution_count": 18,
     "metadata": {},
     "output_type": "execute_result"
    }
   ],
   "source": [
    "round(mlr2.score(x_train, z_train), 3)"
   ]
  }
 ],
 "metadata": {
  "kernelspec": {
   "display_name": "Prj1",
   "language": "python",
   "name": "prj1"
  },
  "language_info": {
   "codemirror_mode": {
    "name": "ipython",
    "version": 3
   },
   "file_extension": ".py",
   "mimetype": "text/x-python",
   "name": "python",
   "nbconvert_exporter": "python",
   "pygments_lexer": "ipython3",
   "version": "3.9.5"
  }
 },
 "nbformat": 4,
 "nbformat_minor": 5
}
